{
  "nbformat": 4,
  "nbformat_minor": 0,
  "metadata": {
    "colab": {
      "provenance": [],
      "toc_visible": true,
      "collapsed_sections": [],
      "authorship_tag": "ABX9TyOUPY3KwL6kZn05dwmum/Qj",
      "include_colab_link": true
    },
    "kernelspec": {
      "name": "python3",
      "display_name": "Python 3"
    },
    "language_info": {
      "name": "python"
    }
  },
  "cells": [
    {
      "cell_type": "markdown",
      "metadata": {
        "id": "view-in-github",
        "colab_type": "text"
      },
      "source": [
        "<a href=\"https://colab.research.google.com/github/jamiemancini/SFSU_Project_1/blob/main/%5BSFSU_ManciniJ%5D_Project_1.ipynb\" target=\"_parent\"><img src=\"https://colab.research.google.com/assets/colab-badge.svg\" alt=\"Open In Colab\"/></a>"
      ]
    },
    {
      "cell_type": "markdown",
      "source": [
        "Project 1 (Due by 9/14 4:30 pm) 10%\n"
      ],
      "metadata": {
        "id": "w_NBbz-Nah9C"
      }
    },
    {
      "cell_type": "code",
      "execution_count": 2,
      "metadata": {
        "id": "bFrpsyaloU12"
      },
      "outputs": [],
      "source": [
        "import random\n",
        "import math\n",
        "import pandas as pd\n",
        "import numpy as np\n",
        "import seaborn as sns\n",
        "import matplotlib.pyplot as plt\n",
        "%matplotlib inline\n",
        "from sklearn.linear_model import LinearRegression\n",
        "from sklearn.model_selection import train_test_split, cross_val_score\n",
        "from sklearn.metrics import mean_squared_error\n",
        "#https://www.w3schools.com/python/matplotlib_plotting.asp\n",
        "\n"
      ]
    },
    {
      "cell_type": "markdown",
      "source": [
        "Q1. Make your list bigger (at least 1000 elements) and use the random values between 100 to 10000. Use this list and calculate the mean, standard deviation and then plot the values using the Matplotlib. You need to make a histogram of the data."
      ],
      "metadata": {
        "id": "PzfOJeVFaHKt"
      }
    },
    {
      "cell_type": "code",
      "source": [
        "#Project 1  - question 1\n",
        "#arguments are the number of elements in the list (1000)\n",
        "#AND the value of the elements in the list (start_values: 100  and end_value 10000)\n",
        "\n",
        "def create_list(num_elements, start_value, end_value):\n",
        "    \"\"\"makes a random list of elements with values between specified values\"\"\"\n",
        "\n",
        "    list = []\n",
        "\n",
        "    for i in range(num_elements):\n",
        "        list.append(random.randrange(start_value, end_value))\n",
        "\n",
        "    return list\n",
        "\n",
        "#Caluclate the mean of the list\n",
        "\n",
        "def find_mean(list):\n",
        "    \"\"\"find the mean of a given list\"\"\"\n",
        "\n",
        "    length = len(list)\n",
        "    total = 0\n",
        "    for item in list:\n",
        "      total = total + item\n",
        "    mean = total / length\n",
        "    return mean\n",
        "\n",
        "#Calculate Standard Deviation\n",
        "\n",
        "def find_std(list, mean):\n",
        "    \"\"\"find the standard deviation given a list and its mean\"\"\"\n",
        "\n",
        "    N=len(list)\n",
        "    sum = 0\n",
        "    for i in range(1,N):\n",
        "        sum = sum + (list[i]-mean)**2\n",
        "        std = math.sqrt((1/N)*sum)\n",
        "    return std\n",
        "\n",
        "def plot_std(list):\n",
        "    \"\"\"plot the standard deviation\"\"\"\n",
        "\n",
        "    ypoints = np.array(list)\n",
        "\n",
        "    plt.plot(ypoints)\n",
        "    plt.show()\n",
        "\n",
        "\n",
        "list = create_list(1000, 100, 10000)\n",
        "mean = find_mean(list)\n",
        "std = find_std(list, mean)\n",
        "\n",
        "ypoints = np.array(list)\n",
        "\n",
        "plt.plot(ypoints)\n",
        "plt.show()\n"
      ],
      "metadata": {
        "colab": {
          "base_uri": "https://localhost:8080/",
          "height": 265
        },
        "id": "t6OsvTQWZw14",
        "outputId": "525e024f-9e5a-43b0-b40a-e6568a07a54f"
      },
      "execution_count": 3,
      "outputs": [
        {
          "output_type": "display_data",
          "data": {
            "text/plain": [
              "<Figure size 432x288 with 1 Axes>"
            ],
            "image/png": "[encoded data removed]"
          },
          "metadata": {
            "needs_background": "light"
          }
        }
      ]
    },
    {
      "cell_type": "markdown",
      "source": [
        "Q2.  Now, use a real data such as the housing data shown in the provided code base \n",
        "(LR on house price.ipynb) and repeat the same process in Q1 on 2 of the variables. Not only shows the histograms, please show the corelation of the 2 variables.."
      ],
      "metadata": {
        "id": "XBAnO9Zab4S3"
      }
    },
    {
      "cell_type": "code",
      "source": [
        "#Project 1  - question 2\n",
        "#Using the data set provided as a shared csv file\n",
        "\n",
        "url = 'https://drive.google.com/file/d/1TuaGtztXTrP5wmhh7yRG_oxcbNrWatoN/view?usp=sharing'\n",
        "url =  'https://drive.google.com/uc?id=1TuaGtztXTrP5wmhh7yRG_oxcbNrWatoN&export=download'\n",
        "#from google.colab import drive\n",
        "#drive.mount('/content/drive')\n",
        "#url = '/content/drive/MyDrive/308/kc_house_data.csv'\n",
        "houses = pd.read_csv(url, on_bad_lines='skip')\n",
        "houses.head()\n",
        "\n",
        "#summary of the data set provided:"
      ],
      "metadata": {
        "colab": {
          "base_uri": "https://localhost:8080/",
          "height": 300
        },
        "id": "npsC6mEmoYGi",
        "outputId": "731c5bf6-1683-416b-eaf6-73a93f40c157"
      },
      "execution_count": 4,
      "outputs": [
        {
          "output_type": "execute_result",
          "data": {
            "text/plain": [
              "           id             date     price  bedrooms  bathrooms  sqft_living  \\\n",
              "0  7129300520  20141013T000000  221900.0         3       1.00         1180   \n",
              "1  6414100192  20141209T000000  538000.0         3       2.25         2570   \n",
              "2  5631500400  20150225T000000  180000.0         2       1.00          770   \n",
              "3  2487200875  20141209T000000  604000.0         4       3.00         1960   \n",
              "4  1954400510  20150218T000000  510000.0         3       2.00         1680   \n",
              "\n",
              "   sqft_lot  floors  waterfront  view  ...  grade  sqft_above  sqft_basement  \\\n",
              "0      5650     1.0           0     0  ...      7      1180.0              0   \n",
              "1      7242     2.0           0     0  ...      7      2170.0            400   \n",
              "2     10000     1.0           0     0  ...      6       770.0              0   \n",
              "3      5000     1.0           0     0  ...      7      1050.0            910   \n",
              "4      8080     1.0           0     0  ...      8      1680.0              0   \n",
              "\n",
              "   yr_built  yr_renovated  zipcode      lat     long  sqft_living15  \\\n",
              "0      1955             0    98178  47.5112 -122.257           1340   \n",
              "1      1951          1991    98125  47.7210 -122.319           1690   \n",
              "2      1933             0    98028  47.7379 -122.233           2720   \n",
              "3      1965             0    98136  47.5208 -122.393           1360   \n",
              "4      1987             0    98074  47.6168 -122.045           1800   \n",
              "\n",
              "   sqft_lot15  \n",
              "0        5650  \n",
              "1        7639  \n",
              "2        8062  \n",
              "3        5000  \n",
              "4        7503  \n",
              "\n",
              "[5 rows x 21 columns]"
            ],
            "text/html": [
              "\n",
              "  <div id=\"df-ec8d6050-5b0f-45ee-aac8-e50501a72a06\">\n",
              "    <div class=\"colab-df-container\">\n",
              "      <div>\n",
              "<style scoped>\n",
              "    .dataframe tbody tr th:only-of-type {\n",
              "        vertical-align: middle;\n",
              "    }\n",
              "\n",
              "    .dataframe tbody tr th {\n",
              "        vertical-align: top;\n",
              "    }\n",
              "\n",
              "    .dataframe thead th {\n",
              "        text-align: right;\n",
              "    }\n",
              "</style>\n",
              "<table border=\"1\" class=\"dataframe\">\n",
              "  <thead>\n",
              "    <tr style=\"text-align: right;\">\n",
              "      <th></th>\n",
              "      <th>id</th>\n",
              "      <th>date</th>\n",
              "      <th>price</th>\n",
              "      <th>bedrooms</th>\n",
              "      <th>bathrooms</th>\n",
              "      <th>sqft_living</th>\n",
              "      <th>sqft_lot</th>\n",
              "      <th>floors</th>\n",
              "      <th>waterfront</th>\n",
              "      <th>view</th>\n",
              "      <th>...</th>\n",
              "      <th>grade</th>\n",
              "      <th>sqft_above</th>\n",
              "      <th>sqft_basement</th>\n",
              "      <th>yr_built</th>\n",
              "      <th>yr_renovated</th>\n",
              "      <th>zipcode</th>\n",
              "      <th>lat</th>\n",
              "      <th>long</th>\n",
              "      <th>sqft_living15</th>\n",
              "      <th>sqft_lot15</th>\n",
              "    </tr>\n",
              "  </thead>\n",
              "  <tbody>\n",
              "    <tr>\n",
              "      <th>0</th>\n",
              "      <td>7129300520</td>\n",
              "      <td>20141013T000000</td>\n",
              "      <td>221900.0</td>\n",
              "      <td>3</td>\n",
              "      <td>1.00</td>\n",
              "      <td>1180</td>\n",
              "      <td>5650</td>\n",
              "      <td>1.0</td>\n",
              "      <td>0</td>\n",
              "      <td>0</td>\n",
              "      <td>...</td>\n",
              "      <td>7</td>\n",
              "      <td>1180.0</td>\n",
              "      <td>0</td>\n",
              "      <td>1955</td>\n",
              "      <td>0</td>\n",
              "      <td>98178</td>\n",
              "      <td>47.5112</td>\n",
              "      <td>-122.257</td>\n",
              "      <td>1340</td>\n",
              "      <td>5650</td>\n",
              "    </tr>\n",
              "    <tr>\n",
              "      <th>1</th>\n",
              "      <td>6414100192</td>\n",
              "      <td>20141209T000000</td>\n",
              "      <td>538000.0</td>\n",
              "      <td>3</td>\n",
              "      <td>2.25</td>\n",
              "      <td>2570</td>\n",
              "      <td>7242</td>\n",
              "      <td>2.0</td>\n",
              "      <td>0</td>\n",
              "      <td>0</td>\n",
              "      <td>...</td>\n",
              "      <td>7</td>\n",
              "      <td>2170.0</td>\n",
              "      <td>400</td>\n",
              "      <td>1951</td>\n",
              "      <td>1991</td>\n",
              "      <td>98125</td>\n",
              "      <td>47.7210</td>\n",
              "      <td>-122.319</td>\n",
              "      <td>1690</td>\n",
              "      <td>7639</td>\n",
              "    </tr>\n",
              "    <tr>\n",
              "      <th>2</th>\n",
              "      <td>5631500400</td>\n",
              "      <td>20150225T000000</td>\n",
              "      <td>180000.0</td>\n",
              "      <td>2</td>\n",
              "      <td>1.00</td>\n",
              "      <td>770</td>\n",
              "      <td>10000</td>\n",
              "      <td>1.0</td>\n",
              "      <td>0</td>\n",
              "      <td>0</td>\n",
              "      <td>...</td>\n",
              "      <td>6</td>\n",
              "      <td>770.0</td>\n",
              "      <td>0</td>\n",
              "      <td>1933</td>\n",
              "      <td>0</td>\n",
              "      <td>98028</td>\n",
              "      <td>47.7379</td>\n",
              "      <td>-122.233</td>\n",
              "      <td>2720</td>\n",
              "      <td>8062</td>\n",
              "    </tr>\n",
              "    <tr>\n",
              "      <th>3</th>\n",
              "      <td>2487200875</td>\n",
              "      <td>20141209T000000</td>\n",
              "      <td>604000.0</td>\n",
              "      <td>4</td>\n",
              "      <td>3.00</td>\n",
              "      <td>1960</td>\n",
              "      <td>5000</td>\n",
              "      <td>1.0</td>\n",
              "      <td>0</td>\n",
              "      <td>0</td>\n",
              "      <td>...</td>\n",
              "      <td>7</td>\n",
              "      <td>1050.0</td>\n",
              "      <td>910</td>\n",
              "      <td>1965</td>\n",
              "      <td>0</td>\n",
              "      <td>98136</td>\n",
              "      <td>47.5208</td>\n",
              "      <td>-122.393</td>\n",
              "      <td>1360</td>\n",
              "      <td>5000</td>\n",
              "    </tr>\n",
              "    <tr>\n",
              "      <th>4</th>\n",
              "      <td>1954400510</td>\n",
              "      <td>20150218T000000</td>\n",
              "      <td>510000.0</td>\n",
              "      <td>3</td>\n",
              "      <td>2.00</td>\n",
              "      <td>1680</td>\n",
              "      <td>8080</td>\n",
              "      <td>1.0</td>\n",
              "      <td>0</td>\n",
              "      <td>0</td>\n",
              "      <td>...</td>\n",
              "      <td>8</td>\n",
              "      <td>1680.0</td>\n",
              "      <td>0</td>\n",
              "      <td>1987</td>\n",
              "      <td>0</td>\n",
              "      <td>98074</td>\n",
              "      <td>47.6168</td>\n",
              "      <td>-122.045</td>\n",
              "      <td>1800</td>\n",
              "      <td>7503</td>\n",
              "    </tr>\n",
              "  </tbody>\n",
              "</table>\n",
              "<p>5 rows × 21 columns</p>\n",
              "</div>\n",
              "      <button class=\"colab-df-convert\" onclick=\"convertToInteractive('df-ec8d6050-5b0f-45ee-aac8-e50501a72a06')\"\n",
              "              title=\"Convert this dataframe to an interactive table.\"\n",
              "              style=\"display:none;\">\n",
              "        \n",
              "  <svg xmlns=\"http://www.w3.org/2000/svg\" height=\"24px\"viewBox=\"0 0 24 24\"\n",
              "       width=\"24px\">\n",
              "    <path d=\"M0 0h24v24H0V0z\" fill=\"none\"/>\n",
              "    <path d=\"M18.56 5.44l.94 2.06.94-2.06 2.06-.94-2.06-.94-.94-2.06-.94 2.06-2.06.94zm-11 1L8.5 8.5l.94-2.06 2.06-.94-2.06-.94L8.5 2.5l-.94 2.06-2.06.94zm10 10l.94 2.06.94-2.06 2.06-.94-2.06-.94-.94-2.06-.94 2.06-2.06.94z\"/><path d=\"M17.41 7.96l-1.37-1.37c-.4-.4-.92-.59-1.43-.59-.52 0-1.04.2-1.43.59L10.3 9.45l-7.72 7.72c-.78.78-.78 2.05 0 2.83L4 21.41c.39.39.9.59 1.41.59.51 0 1.02-.2 1.41-.59l7.78-7.78 2.81-2.81c.8-.78.8-2.07 0-2.86zM5.41 20L4 18.59l7.72-7.72 1.47 1.35L5.41 20z\"/>\n",
              "  </svg>\n",
              "      </button>\n",
              "      \n",
              "  <style>\n",
              "    .colab-df-container {\n",
              "      display:flex;\n",
              "      flex-wrap:wrap;\n",
              "      gap: 12px;\n",
              "    }\n",
              "\n",
              "    .colab-df-convert {\n",
              "      background-color: #E8F0FE;\n",
              "      border: none;\n",
              "      border-radius: 50%;\n",
              "      cursor: pointer;\n",
              "      display: none;\n",
              "      fill: #1967D2;\n",
              "      height: 32px;\n",
              "      padding: 0 0 0 0;\n",
              "      width: 32px;\n",
              "    }\n",
              "\n",
              "    .colab-df-convert:hover {\n",
              "      background-color: #E2EBFA;\n",
              "      box-shadow: 0px 1px 2px rgba(60, 64, 67, 0.3), 0px 1px 3px 1px rgba(60, 64, 67, 0.15);\n",
              "      fill: #174EA6;\n",
              "    }\n",
              "\n",
              "    [theme=dark] .colab-df-convert {\n",
              "      background-color: #3B4455;\n",
              "      fill: #D2E3FC;\n",
              "    }\n",
              "\n",
              "    [theme=dark] .colab-df-convert:hover {\n",
              "      background-color: #434B5C;\n",
              "      box-shadow: 0px 1px 3px 1px rgba(0, 0, 0, 0.15);\n",
              "      filter: drop-shadow(0px 1px 2px rgba(0, 0, 0, 0.3));\n",
              "      fill: #FFFFFF;\n",
              "    }\n",
              "  </style>\n",
              "\n",
              "      <script>\n",
              "        const buttonEl =\n",
              "          document.querySelector('#df-ec8d6050-5b0f-45ee-aac8-e50501a72a06 button.colab-df-convert');\n",
              "        buttonEl.style.display =\n",
              "          google.colab.kernel.accessAllowed ? 'block' : 'none';\n",
              "\n",
              "        async function convertToInteractive(key) {\n",
              "          const element = document.querySelector('#df-ec8d6050-5b0f-45ee-aac8-e50501a72a06');\n",
              "          const dataTable =\n",
              "            await google.colab.kernel.invokeFunction('convertToInteractive',\n",
              "                                                     [key], {});\n",
              "          if (!dataTable) return;\n",
              "\n",
              "          const docLinkHtml = 'Like what you see? Visit the ' +\n",
              "            '<a target=\"_blank\" href=https://colab.research.google.com/notebooks/data_table.ipynb>data table notebook</a>'\n",
              "            + ' to learn more about interactive tables.';\n",
              "          element.innerHTML = '';\n",
              "          dataTable['output_type'] = 'display_data';\n",
              "          await google.colab.output.renderOutput(dataTable, element);\n",
              "          const docLink = document.createElement('div');\n",
              "          docLink.innerHTML = docLinkHtml;\n",
              "          element.appendChild(docLink);\n",
              "        }\n",
              "      </script>\n",
              "    </div>\n",
              "  </div>\n",
              "  "
            ]
          },
          "metadata": {},
          "execution_count": 4
        }
      ]
    },
    {
      "cell_type": "code",
      "source": [
        "#First Specific Data Set I'll use: \n",
        "\n",
        "houses['sqft_living']"
      ],
      "metadata": {
        "colab": {
          "base_uri": "https://localhost:8080/"
        },
        "id": "HrQwNOCxs-U9",
        "outputId": "d9849b1b-e683-46a4-a10f-44ae130fe5d0"
      },
      "execution_count": null,
      "outputs": [
        {
          "output_type": "execute_result",
          "data": {
            "text/plain": [
              "0        1180\n",
              "1        2570\n",
              "2         770\n",
              "3        1960\n",
              "4        1680\n",
              "         ... \n",
              "21608    1530\n",
              "21609    2310\n",
              "21610    1020\n",
              "21611    1600\n",
              "21612    1020\n",
              "Name: sqft_living, Length: 21613, dtype: int64"
            ]
          },
          "metadata": {},
          "execution_count": 4
        }
      ]
    },
    {
      "cell_type": "code",
      "source": [
        "#Second Specific Data Set I'll use: \n",
        "\n",
        "houses['price']"
      ],
      "metadata": {
        "colab": {
          "base_uri": "https://localhost:8080/"
        },
        "id": "HXpaMbDFtzRg",
        "outputId": "befecd4f-efdf-4617-bcc1-a34f3cb0ae08"
      },
      "execution_count": null,
      "outputs": [
        {
          "output_type": "execute_result",
          "data": {
            "text/plain": [
              "0        221900.0\n",
              "1        538000.0\n",
              "2        180000.0\n",
              "3        604000.0\n",
              "4        510000.0\n",
              "           ...   \n",
              "21608    360000.0\n",
              "21609    400000.0\n",
              "21610    402101.0\n",
              "21611    400000.0\n",
              "21612    325000.0\n",
              "Name: price, Length: 21613, dtype: float64"
            ]
          },
          "metadata": {},
          "execution_count": 7
        }
      ]
    },
    {
      "cell_type": "code",
      "source": [
        "#The data set is a panda series\n",
        "#It is similar to a list, but not the same\n",
        "\n",
        "print(type(houses['sqft_living']))\n",
        "print(houses['sqft_living'][1])"
      ],
      "metadata": {
        "colab": {
          "base_uri": "https://localhost:8080/"
        },
        "id": "p9i2Cfljvayn",
        "outputId": "8c397816-7632-42ef-8f2c-9e016906729e"
      },
      "execution_count": null,
      "outputs": [
        {
          "output_type": "stream",
          "name": "stdout",
          "text": [
            "<class 'pandas.core.series.Series'>\n",
            "2570\n"
          ]
        }
      ]
    },
    {
      "cell_type": "code",
      "source": [
        "def find_mean(list):\n",
        "    length = len(list)\n",
        "    total = 0\n",
        "    for item in list:\n",
        "        total = total + item\n",
        "    mean = total / length\n",
        "    return mean\n",
        "\n",
        "def find_std(list, mean):\n",
        "    N=len(list)\n",
        "    sum = 0\n",
        "    for i in range(1,N):\n",
        "        sum = sum + (list[i]-mean)**2\n",
        "        std = math.sqrt((1/N)*sum)\n",
        "    return std\n",
        "\n",
        "mean = find_mean(houses['sqft_living'])\n",
        "std = find_std(houses['sqft_living'], mean)\n",
        "\n",
        "print(f'The MEAN of square feet of living space is: {mean}')\n",
        "print(f'The STANDARD DEVIATION of square feet of living space is: {std}')\n",
        "\n",
        "ypoints = np.array(houses['sqft_living'])\n",
        "\n",
        "plt.plot(ypoints)\n",
        "plt.show()\n",
        "\n"
      ],
      "metadata": {
        "colab": {
          "base_uri": "https://localhost:8080/",
          "height": 301
        },
        "id": "zTQmrbkpw32-",
        "outputId": "4cfadf77-2783-42a4-cdcf-17bbee02cafc"
      },
      "execution_count": 5,
      "outputs": [
        {
          "output_type": "stream",
          "name": "stdout",
          "text": [
            "The MEAN of square feet of living space is: 2079.8997362698374\n",
            "The STANDARD DEVIATION of square feet of living space is: 918.3992504778441\n"
          ]
        },
        {
          "output_type": "display_data",
          "data": {
            "text/plain": [
              "<Figure size 432x288 with 1 Axes>"
            ],
            "image/png": "[encoded data removed]"
          },
          "metadata": {
            "needs_background": "light"
          }
        }
      ]
    },
    {
      "cell_type": "code",
      "source": [
        "mean = find_mean(houses['price'])\n",
        "std = find_std(houses['price'], mean)\n",
        "\n",
        "print(f'The MEAN of the price of homes is: {mean}')\n",
        "print(f'The STANDARD DEVIATION of the price of homes is: {std}')\n",
        "\n",
        "ypoints = np.array(houses['price'])\n",
        "\n",
        "plt.plot(ypoints)\n",
        "plt.show()\n"
      ],
      "metadata": {
        "colab": {
          "base_uri": "https://localhost:8080/",
          "height": 311
        },
        "id": "Zn-rzyhGzw8U",
        "outputId": "209460d5-7649-4d96-88a9-c50ebd3d0272"
      },
      "execution_count": 6,
      "outputs": [
        {
          "output_type": "stream",
          "name": "stdout",
          "text": [
            "The MEAN of the price of homes is: 540088.1417665294\n",
            "The STANDARD DEVIATION of the price of homes is: 367112.32318848313\n"
          ]
        },
        {
          "output_type": "display_data",
          "data": {
            "text/plain": [
              "<Figure size 432x288 with 1 Axes>"
            ],
            "image/png": "[encoded data removed]"
          },
          "metadata": {
            "needs_background": "light"
          }
        }
      ]
    },
    {
      "cell_type": "code",
      "source": [
        "sum = 0\n",
        "count = 0\n",
        "for sqft in houses['sqft_living']:\n",
        "  sum = sum + sqft\n",
        "  count = count + 1\n",
        "print (\"sum:\" + str(sum))\n",
        "print (\"count:\" + str(count))\n",
        "print (\"average square feet of living space:\" + str (sum/count))"
      ],
      "metadata": {
        "colab": {
          "base_uri": "https://localhost:8080/"
        },
        "id": "tfrNQeoGuoTB",
        "outputId": "2402f8ec-0db7-4b2f-94a3-93306f7c4d83"
      },
      "execution_count": 7,
      "outputs": [
        {
          "output_type": "stream",
          "name": "stdout",
          "text": [
            "sum:44952873\n",
            "count:21613\n",
            "average square feet of living space:2079.8997362698374\n"
          ]
        }
      ]
    },
    {
      "cell_type": "code",
      "source": [
        "sum = 0\n",
        "count = 0\n",
        "for cost in houses['price']:\n",
        "  sum = sum + cost\n",
        "  count = count + 1\n",
        "print (\"sum:\" + str(sum))\n",
        "print (\"count:\" + str(count))\n",
        "print (\"average price of homes:\" + str (sum/count))"
      ],
      "metadata": {
        "colab": {
          "base_uri": "https://localhost:8080/"
        },
        "id": "Sq9eo9M5u2s-",
        "outputId": "75233548-c2b0-4670-a573-fd4fe69c9b97"
      },
      "execution_count": 8,
      "outputs": [
        {
          "output_type": "stream",
          "name": "stdout",
          "text": [
            "sum:11672925008.0\n",
            "count:21613\n",
            "average price of homes:540088.1417665294\n"
          ]
        }
      ]
    },
    {
      "cell_type": "code",
      "source": [
        "houses['sqft_living'].hist()"
      ],
      "metadata": {
        "colab": {
          "base_uri": "https://localhost:8080/",
          "height": 282
        },
        "id": "BrY5FMeqvxqs",
        "outputId": "2fc7455e-9b7a-4b9e-a112-36195b89bcb0"
      },
      "execution_count": 9,
      "outputs": [
        {
          "output_type": "execute_result",
          "data": {
            "text/plain": [
              "<matplotlib.axes._subplots.AxesSubplot at 0x7f397676e2d0>"
            ]
          },
          "metadata": {},
          "execution_count": 9
        },
        {
          "output_type": "display_data",
          "data": {
            "text/plain": [
              "<Figure size 432x288 with 1 Axes>"
            ],
            "image/png": "[encoded data removed]"
          },
          "metadata": {
            "needs_background": "light"
          }
        }
      ]
    },
    {
      "cell_type": "code",
      "source": [
        "houses['price'].hist()"
      ],
      "metadata": {
        "colab": {
          "base_uri": "https://localhost:8080/",
          "height": 295
        },
        "id": "RYR7Qe_LwBm_",
        "outputId": "db65ee7e-856a-498c-c9e8-7c5286692e7a"
      },
      "execution_count": 10,
      "outputs": [
        {
          "output_type": "execute_result",
          "data": {
            "text/plain": [
              "<matplotlib.axes._subplots.AxesSubplot at 0x7f397679ec10>"
            ]
          },
          "metadata": {},
          "execution_count": 10
        },
        {
          "output_type": "display_data",
          "data": {
            "text/plain": [
              "<Figure size 432x288 with 1 Axes>"
            ],
            "image/png": "[encoded data removed]"
          },
          "metadata": {
            "needs_background": "light"
          }
        }
      ]
    },
    {
      "cell_type": "markdown",
      "source": [
        "Project 1 - Question #3: Use the two variables selected for Q2, write one linear search and a binary search functions with your own code. Run the code multiple times and see if you can show the performance difference.\n"
      ],
      "metadata": {
        "id": "fKtFVuPasPh7"
      }
    },
    {
      "cell_type": "code",
      "source": [
        "#Linear Search\n",
        "\n",
        "import time\n",
        "\n",
        "def find_linear(list, value, description):\n",
        "  \n",
        "  # ts stores the time in seconds\n",
        "  ts1 = time.time()\n",
        "  \n",
        "  i=-1\n",
        "\n",
        "  found_houses=[]\n",
        "\n",
        "  for item in list:\n",
        "    i = i + 1\n",
        "    if item == value:\n",
        "      #print(f\"The Value {value} was found at entry {i}\")\n",
        "      #print(f\"Entry {i} is {houses['sqft_living'][i]}\")\n",
        "      found_houses.append(i)\n",
        "      \n",
        "\n",
        "  ts2 = time.time()\n",
        "  print(f'The time taken to search the list was {ts2-ts1} seconds.')\n",
        "  #print(f'Here are the listings identified: {found_houses}')\n",
        "  print(f'There were {len(found_houses)} houses found that matched {value} {description}.' )\n",
        "\n",
        "#shortened_houses=houses['sqft_living'][:11]\n",
        "\n",
        "find_linear(houses['sqft_living'],600, \"square feet of living space\")\n",
        "print(\"\") \n",
        "\n",
        "find_linear(houses['price'],500000, \"dollars in cost\") \n",
        "\n",
        "\n"
      ],
      "metadata": {
        "colab": {
          "base_uri": "https://localhost:8080/"
        },
        "id": "G-2J5zPVsaPC",
        "outputId": "504c2b1a-cf3e-46fb-ba82-6b7ce1fbe45a"
      },
      "execution_count": 11,
      "outputs": [
        {
          "output_type": "stream",
          "name": "stdout",
          "text": [
            "The time taken to search the list was 0.004818439483642578 seconds.\n",
            "There were 7 houses found that matched 600 square feet of living space.\n",
            "\n",
            "The time taken to search the list was 0.0042073726654052734 seconds.\n",
            "There were 152 houses found that matched 500000 dollars in cost.\n"
          ]
        }
      ]
    },
    {
      "cell_type": "code",
      "source": [
        "print(math.ceil(19/2))"
      ],
      "metadata": {
        "colab": {
          "base_uri": "https://localhost:8080/"
        },
        "id": "igZlBDx5Mqi-",
        "outputId": "1d42e1b5-c2ed-41aa-d9d4-7a86305ca0aa"
      },
      "execution_count": null,
      "outputs": [
        {
          "output_type": "stream",
          "name": "stdout",
          "text": [
            "10\n"
          ]
        }
      ]
    },
    {
      "cell_type": "code",
      "source": [
        "#Binary Search\n",
        "#DRAFT#### \n",
        "\n",
        "#Problem is you are using the original indexes from the series\n",
        "#You want to use the indexes of the sorted list\n",
        "#add a column\n",
        "\n",
        "def find_binary(list, value, description):\n",
        "\n",
        "  # ts stores the time in seconds\n",
        "  ts1 = time.time()\n",
        "\n",
        "  #print(f\"we are looking for {value}\")\n",
        " \n",
        "  sorted_list=list.sort_values()\n",
        "  sorted_list= sorted_list.reset_index(drop=True)\n",
        "  #print(sorted_list)#checked CORRECT\n",
        "\n",
        "  start_i=0\n",
        "  end_i=len(list)\n",
        "  #print(end_i)\n",
        "\n",
        "  found_houses=[]\n",
        "\n",
        "  while start_i <= end_i:\n",
        "    middle_i = math.ceil((start_i + end_i)//2)\n",
        "    #print(f\"First While LOOP: The value of mid-i is {middle_i}\")\n",
        "    if sorted_list[middle_i]==value:\n",
        "      found_houses.append(middle_i)\n",
        "      #print(f\"found houses at : {found_houses}\")\n",
        "      #print(sorted_list[middle_i])\n",
        "      \n",
        "      \n",
        "      # #need to check numbers that are around the middle for repeated values\n",
        "      n=0\n",
        "      #print(f\"The value of n is {n}\")\n",
        "      \n",
        "      #check the values above\n",
        "      while True:\n",
        "        middle_i = middle_i+1\n",
        "        #print(f'The new middle_i is {middle_i}')\n",
        "        #print(f'FIRST LOOP The value at {middle_i} is {sorted_list[middle_i]}')\n",
        "        \n",
        "        if sorted_list[middle_i]==value:\n",
        "          found_houses.append(f\"series index for {middle_i} value\")\n",
        "          n = n + 1\n",
        "          #print(f\"The value of n is NOW {n}\")\n",
        "        else:\n",
        "          #print(\"break\")\n",
        "          break\n",
        "        \n",
        "\n",
        "      #print(f\"The value of n after the FIRST LOOP is {n}\")\n",
        "      middle_i = middle_i - n - 1\n",
        "      \n",
        "      #check the values below\n",
        "      while True:\n",
        "        #print(f\"Second Loop - BELOW - The initial value of mid-i {middle_i}\")\n",
        "        middle_i = middle_i - 1\n",
        "        #print(f\"Second Loop - BELOW - The new value of mid-i {middle_i}\")\n",
        "        #print(sorted_list[middle_i])\n",
        "\n",
        "        if sorted_list[middle_i]==value:\n",
        "          found_houses.append(f\"series index for {middle_i} value\")\n",
        "        \n",
        "        else:\n",
        "          #print(\"break Second Loop\")\n",
        "          break\n",
        "      \n",
        "      break  \n",
        "    \n",
        "    else:\n",
        "      if sorted_list[middle_i] < value:\n",
        "        start_i = middle_i + 1\n",
        "        # print(f\" < value case {sorted_list[middle_i]}\")\n",
        "        # print(f\" start_i is changed to {start_i}\")\n",
        "        # print(f\" end_i stays at {end_i}\")\n",
        "\n",
        "      else:\n",
        "        end_i = middle_i - 1\n",
        "        # print(f\" > value case {sorted_list[middle_i]}\")\n",
        "        # print(f\" end_i is changed to {end_i}\")\n",
        "        # print(f\" start_i stays at {start_i}\")\n",
        "  \n",
        "  ts2 = time.time()\n",
        "\n",
        "  print(f'The time taken to search the list was {ts2-ts1} seconds.')\n",
        "  #print(f'Here are the listings identified: {found_houses}')\n",
        "  print(f'There were {len(found_houses)} houses found that matched {value} {description}.' )\n",
        "\n",
        "shortened_houses=houses['sqft_living']\n",
        "\n",
        "#print(f' shortened list: {shortened_houses}')\n",
        "\n",
        "find_binary(shortened_houses, 600, \"square feet of living space\")\n",
        "print(\"\") \n",
        "\n",
        "find_binary(houses['price'],500000, \"dollars in cost\") \n",
        "\n",
        "\n"
      ],
      "metadata": {
        "colab": {
          "base_uri": "https://localhost:8080/"
        },
        "id": "UQ_Y0l8FNjKj",
        "outputId": "88fbee2f-7f24-4c3c-ba09-252c03121b99"
      },
      "execution_count": 12,
      "outputs": [
        {
          "output_type": "stream",
          "name": "stdout",
          "text": [
            "The time taken to search the list was 0.0023734569549560547 seconds.\n",
            "There were 7 houses found that matched 600 square feet of living space.\n",
            "\n",
            "The time taken to search the list was 0.003279447555541992 seconds.\n",
            "There were 152 houses found that matched 500000 dollars in cost.\n"
          ]
        }
      ]
    },
    {
      "cell_type": "markdown",
      "source": [],
      "metadata": {
        "id": "MKabMrx5hiiB"
      }
    },
    {
      "cell_type": "markdown",
      "source": [
        "**Q4: Write your own English version algorithm of linear search and the binary search and discuss what are clear and what are not so clear.**\n",
        "\n",
        "> Indented block\n",
        "\n"
      ],
      "metadata": {
        "id": "QbCQDHyPfGwH"
      }
    },
    {
      "cell_type": "markdown",
      "source": [
        "**English language version of linear search:**\n",
        "\n",
        "Given a list of elements with varying values, we are trying to find the occurence of a specifc value.\n",
        "\n",
        "The algorithm loops thrugh every value in the list, comparing its value to the specific value stated (that we are searching for).\n",
        "\n",
        "Each time a value is found, its index is added to a list.\n",
        "The length of the list therefore represents the number of times that the value occured.\n"
      ],
      "metadata": {
        "id": "hpV5syuqgqSx"
      }
    },
    {
      "cell_type": "markdown",
      "source": [
        "**English language version of binary search:**\n",
        "\n",
        "Given a list of elements with varying values, we are trying to find the occurence of a specifc value.\n",
        "\n",
        "The algorithm must start by sorting the values in the list in ascending order.  Binary search is dependant on the list being sorted.\n",
        "\n",
        "The length of the list determines the index of the starting, ending and middle value, which will vary throughout the algorithm.  The initial starting value is at index 0, the initial ending value is at the last index (so the length of the list minus 1; since indexing starts at 0), the middle value is found by adding the starting and ending indexes, dividing by 2, and rounding up to a whole number.\n",
        "\n",
        "The value at the middle index is compared to the value that we are searching for.  \n",
        "\n",
        "If the value at the middle index is larger than the value that we are searching for, then we know that the value we are searching for must be between the starting and middle indexes of the list.  The value prior to the middle indexed  value becomes the end index; a new middle index is calculated, and the algorithm is repeated untial a match is found.\n",
        "\n",
        "However, if the value at the middle index is smaller than the value that we are searching for, then we know that the value that we are searching for must be between the middle and ending indexes of the list. The value after the middle indexed  value becomes the start index; a new middle index is calculated, and the algorithm is repeated untial a match is found. \n",
        "\n",
        "When a match is found, its index is added to a list.  But we still need to search and compare the values located before and after the one that is matched.  This is because some values are repeated multiple times.  Since the list is sorted they must be adjacent to the match.\n",
        "\n",
        "First we check the values with indexes larger than the original match.  We are also recording the change of indexes as we search and compare.\n",
        "\n",
        "Second, we check the values with indexes smaller than the original match.  The change in index that was recorded allows us to locate the initial index.  Each time a match is found its index is added to the list.\n",
        "\n",
        "The length of the final list of indexes where the matched values were found is the same as the number of matches in the list."
      ],
      "metadata": {
        "id": "9BQR9iDbhoGd"
      }
    },
    {
      "cell_type": "markdown",
      "source": [
        "**Q5: Explain why the performance difference happens using a list1, list2, list3 considering that list1 has 1,000 elements, list2 has 1,000,000 elements, and list3 has 1,000,000,000 elements in their worst case performance.**"
      ],
      "metadata": {
        "id": "YU7YanuJfLLt"
      }
    },
    {
      "cell_type": "markdown",
      "source": [
        "There's a performance difference depending on the size of the list, because the more elements in a list then the more looping the program will need to run.  \n",
        "\n",
        "For a Linear Search, the performance difference will be more noticeable, because every the value of every element in the list must be compared to the value the program is searching for.\n",
        "\n",
        "For a Binary Search, the performance difference will vary depending on the location of the elements after the sorting is completed.  It is faster than a Linear Search, because you don't need to check every value in the list, the algorithm compares values from the list in order to locate the given value. "
      ],
      "metadata": {
        "id": "gOLcGjsJLexN"
      }
    }
  ]
}