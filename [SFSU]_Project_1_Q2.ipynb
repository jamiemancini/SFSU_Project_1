{
  "nbformat": 4,
  "nbformat_minor": 0,
  "metadata": {
    "colab": {
      "provenance": [],
      "toc_visible": true,
      "collapsed_sections": [],
      "authorship_tag": "ABX9TyMcwwl033ZBzoxPyrJcyz5h",
      "include_colab_link": true
    },
    "kernelspec": {
      "name": "python3",
      "display_name": "Python 3"
    },
    "language_info": {
      "name": "python"
    }
  },
  "cells": [
    {
      "cell_type": "markdown",
      "metadata": {
        "id": "view-in-github",
        "colab_type": "text"
      },
      "source": [
        "<a href=\"https://colab.research.google.com/github/jamiemancini/SFSU_Project_1/blob/main/%5BSFSU%5D_Project_1_Q2.ipynb\" target=\"_parent\"><img src=\"https://colab.research.google.com/assets/colab-badge.svg\" alt=\"Open In Colab\"/></a>"
      ]
    },
    {
      "cell_type": "code",
      "execution_count": 3,
      "metadata": {
        "id": "bFrpsyaloU12"
      },
      "outputs": [],
      "source": [
        "import math\n",
        "import pandas as pd\n",
        "import numpy as np\n",
        "import seaborn as sns\n",
        "import matplotlib.pyplot as plt\n",
        "%matplotlib inline\n",
        "from sklearn.linear_model import LinearRegression\n",
        "from sklearn.model_selection import train_test_split, cross_val_score\n",
        "from sklearn.metrics import mean_squared_error"
      ]
    },
    {
      "cell_type": "code",
      "source": [
        "#Project 1  - question 2\n",
        "\n",
        "url = 'https://drive.google.com/file/d/1TuaGtztXTrP5wmhh7yRG_oxcbNrWatoN/view?usp=sharing'\n",
        "url =  'https://drive.google.com/uc?id=1TuaGtztXTrP5wmhh7yRG_oxcbNrWatoN&export=download'\n",
        "#from google.colab import drive\n",
        "#drive.mount('/content/drive')\n",
        "#url = '/content/drive/MyDrive/308/kc_house_data.csv'\n",
        "houses = pd.read_csv(url, on_bad_lines='skip')\n",
        "houses.head()"
      ],
      "metadata": {
        "colab": {
          "base_uri": "https://localhost:8080/",
          "height": 300
        },
        "id": "npsC6mEmoYGi",
        "outputId": "4868ff8a-7ce1-437a-d604-b40aba16f7ca"
      },
      "execution_count": 4,
      "outputs": [
        {
          "output_type": "execute_result",
          "data": {
            "text/plain": [
              "           id             date     price  bedrooms  bathrooms  sqft_living  \\\n",
              "0  7129300520  20141013T000000  221900.0         3       1.00         1180   \n",
              "1  6414100192  20141209T000000  538000.0         3       2.25         2570   \n",
              "2  5631500400  20150225T000000  180000.0         2       1.00          770   \n",
              "3  2487200875  20141209T000000  604000.0         4       3.00         1960   \n",
              "4  1954400510  20150218T000000  510000.0         3       2.00         1680   \n",
              "\n",
              "   sqft_lot  floors  waterfront  view  ...  grade  sqft_above  sqft_basement  \\\n",
              "0      5650     1.0           0     0  ...      7      1180.0              0   \n",
              "1      7242     2.0           0     0  ...      7      2170.0            400   \n",
              "2     10000     1.0           0     0  ...      6       770.0              0   \n",
              "3      5000     1.0           0     0  ...      7      1050.0            910   \n",
              "4      8080     1.0           0     0  ...      8      1680.0              0   \n",
              "\n",
              "   yr_built  yr_renovated  zipcode      lat     long  sqft_living15  \\\n",
              "0      1955             0    98178  47.5112 -122.257           1340   \n",
              "1      1951          1991    98125  47.7210 -122.319           1690   \n",
              "2      1933             0    98028  47.7379 -122.233           2720   \n",
              "3      1965             0    98136  47.5208 -122.393           1360   \n",
              "4      1987             0    98074  47.6168 -122.045           1800   \n",
              "\n",
              "   sqft_lot15  \n",
              "0        5650  \n",
              "1        7639  \n",
              "2        8062  \n",
              "3        5000  \n",
              "4        7503  \n",
              "\n",
              "[5 rows x 21 columns]"
            ],
            "text/html": [
              "\n",
              "  <div id=\"df-9340c0e4-521f-4d96-89e2-ed50dd6484be\">\n",
              "    <div class=\"colab-df-container\">\n",
              "      <div>\n",
              "<style scoped>\n",
              "    .dataframe tbody tr th:only-of-type {\n",
              "        vertical-align: middle;\n",
              "    }\n",
              "\n",
              "    .dataframe tbody tr th {\n",
              "        vertical-align: top;\n",
              "    }\n",
              "\n",
              "    .dataframe thead th {\n",
              "        text-align: right;\n",
              "    }\n",
              "</style>\n",
              "<table border=\"1\" class=\"dataframe\">\n",
              "  <thead>\n",
              "    <tr style=\"text-align: right;\">\n",
              "      <th></th>\n",
              "      <th>id</th>\n",
              "      <th>date</th>\n",
              "      <th>price</th>\n",
              "      <th>bedrooms</th>\n",
              "      <th>bathrooms</th>\n",
              "      <th>sqft_living</th>\n",
              "      <th>sqft_lot</th>\n",
              "      <th>floors</th>\n",
              "      <th>waterfront</th>\n",
              "      <th>view</th>\n",
              "      <th>...</th>\n",
              "      <th>grade</th>\n",
              "      <th>sqft_above</th>\n",
              "      <th>sqft_basement</th>\n",
              "      <th>yr_built</th>\n",
              "      <th>yr_renovated</th>\n",
              "      <th>zipcode</th>\n",
              "      <th>lat</th>\n",
              "      <th>long</th>\n",
              "      <th>sqft_living15</th>\n",
              "      <th>sqft_lot15</th>\n",
              "    </tr>\n",
              "  </thead>\n",
              "  <tbody>\n",
              "    <tr>\n",
              "      <th>0</th>\n",
              "      <td>7129300520</td>\n",
              "      <td>20141013T000000</td>\n",
              "      <td>221900.0</td>\n",
              "      <td>3</td>\n",
              "      <td>1.00</td>\n",
              "      <td>1180</td>\n",
              "      <td>5650</td>\n",
              "      <td>1.0</td>\n",
              "      <td>0</td>\n",
              "      <td>0</td>\n",
              "      <td>...</td>\n",
              "      <td>7</td>\n",
              "      <td>1180.0</td>\n",
              "      <td>0</td>\n",
              "      <td>1955</td>\n",
              "      <td>0</td>\n",
              "      <td>98178</td>\n",
              "      <td>47.5112</td>\n",
              "      <td>-122.257</td>\n",
              "      <td>1340</td>\n",
              "      <td>5650</td>\n",
              "    </tr>\n",
              "    <tr>\n",
              "      <th>1</th>\n",
              "      <td>6414100192</td>\n",
              "      <td>20141209T000000</td>\n",
              "      <td>538000.0</td>\n",
              "      <td>3</td>\n",
              "      <td>2.25</td>\n",
              "      <td>2570</td>\n",
              "      <td>7242</td>\n",
              "      <td>2.0</td>\n",
              "      <td>0</td>\n",
              "      <td>0</td>\n",
              "      <td>...</td>\n",
              "      <td>7</td>\n",
              "      <td>2170.0</td>\n",
              "      <td>400</td>\n",
              "      <td>1951</td>\n",
              "      <td>1991</td>\n",
              "      <td>98125</td>\n",
              "      <td>47.7210</td>\n",
              "      <td>-122.319</td>\n",
              "      <td>1690</td>\n",
              "      <td>7639</td>\n",
              "    </tr>\n",
              "    <tr>\n",
              "      <th>2</th>\n",
              "      <td>5631500400</td>\n",
              "      <td>20150225T000000</td>\n",
              "      <td>180000.0</td>\n",
              "      <td>2</td>\n",
              "      <td>1.00</td>\n",
              "      <td>770</td>\n",
              "      <td>10000</td>\n",
              "      <td>1.0</td>\n",
              "      <td>0</td>\n",
              "      <td>0</td>\n",
              "      <td>...</td>\n",
              "      <td>6</td>\n",
              "      <td>770.0</td>\n",
              "      <td>0</td>\n",
              "      <td>1933</td>\n",
              "      <td>0</td>\n",
              "      <td>98028</td>\n",
              "      <td>47.7379</td>\n",
              "      <td>-122.233</td>\n",
              "      <td>2720</td>\n",
              "      <td>8062</td>\n",
              "    </tr>\n",
              "    <tr>\n",
              "      <th>3</th>\n",
              "      <td>2487200875</td>\n",
              "      <td>20141209T000000</td>\n",
              "      <td>604000.0</td>\n",
              "      <td>4</td>\n",
              "      <td>3.00</td>\n",
              "      <td>1960</td>\n",
              "      <td>5000</td>\n",
              "      <td>1.0</td>\n",
              "      <td>0</td>\n",
              "      <td>0</td>\n",
              "      <td>...</td>\n",
              "      <td>7</td>\n",
              "      <td>1050.0</td>\n",
              "      <td>910</td>\n",
              "      <td>1965</td>\n",
              "      <td>0</td>\n",
              "      <td>98136</td>\n",
              "      <td>47.5208</td>\n",
              "      <td>-122.393</td>\n",
              "      <td>1360</td>\n",
              "      <td>5000</td>\n",
              "    </tr>\n",
              "    <tr>\n",
              "      <th>4</th>\n",
              "      <td>1954400510</td>\n",
              "      <td>20150218T000000</td>\n",
              "      <td>510000.0</td>\n",
              "      <td>3</td>\n",
              "      <td>2.00</td>\n",
              "      <td>1680</td>\n",
              "      <td>8080</td>\n",
              "      <td>1.0</td>\n",
              "      <td>0</td>\n",
              "      <td>0</td>\n",
              "      <td>...</td>\n",
              "      <td>8</td>\n",
              "      <td>1680.0</td>\n",
              "      <td>0</td>\n",
              "      <td>1987</td>\n",
              "      <td>0</td>\n",
              "      <td>98074</td>\n",
              "      <td>47.6168</td>\n",
              "      <td>-122.045</td>\n",
              "      <td>1800</td>\n",
              "      <td>7503</td>\n",
              "    </tr>\n",
              "  </tbody>\n",
              "</table>\n",
              "<p>5 rows × 21 columns</p>\n",
              "</div>\n",
              "      <button class=\"colab-df-convert\" onclick=\"convertToInteractive('df-9340c0e4-521f-4d96-89e2-ed50dd6484be')\"\n",
              "              title=\"Convert this dataframe to an interactive table.\"\n",
              "              style=\"display:none;\">\n",
              "        \n",
              "  <svg xmlns=\"http://www.w3.org/2000/svg\" height=\"24px\"viewBox=\"0 0 24 24\"\n",
              "       width=\"24px\">\n",
              "    <path d=\"M0 0h24v24H0V0z\" fill=\"none\"/>\n",
              "    <path d=\"M18.56 5.44l.94 2.06.94-2.06 2.06-.94-2.06-.94-.94-2.06-.94 2.06-2.06.94zm-11 1L8.5 8.5l.94-2.06 2.06-.94-2.06-.94L8.5 2.5l-.94 2.06-2.06.94zm10 10l.94 2.06.94-2.06 2.06-.94-2.06-.94-.94-2.06-.94 2.06-2.06.94z\"/><path d=\"M17.41 7.96l-1.37-1.37c-.4-.4-.92-.59-1.43-.59-.52 0-1.04.2-1.43.59L10.3 9.45l-7.72 7.72c-.78.78-.78 2.05 0 2.83L4 21.41c.39.39.9.59 1.41.59.51 0 1.02-.2 1.41-.59l7.78-7.78 2.81-2.81c.8-.78.8-2.07 0-2.86zM5.41 20L4 18.59l7.72-7.72 1.47 1.35L5.41 20z\"/>\n",
              "  </svg>\n",
              "      </button>\n",
              "      \n",
              "  <style>\n",
              "    .colab-df-container {\n",
              "      display:flex;\n",
              "      flex-wrap:wrap;\n",
              "      gap: 12px;\n",
              "    }\n",
              "\n",
              "    .colab-df-convert {\n",
              "      background-color: #E8F0FE;\n",
              "      border: none;\n",
              "      border-radius: 50%;\n",
              "      cursor: pointer;\n",
              "      display: none;\n",
              "      fill: #1967D2;\n",
              "      height: 32px;\n",
              "      padding: 0 0 0 0;\n",
              "      width: 32px;\n",
              "    }\n",
              "\n",
              "    .colab-df-convert:hover {\n",
              "      background-color: #E2EBFA;\n",
              "      box-shadow: 0px 1px 2px rgba(60, 64, 67, 0.3), 0px 1px 3px 1px rgba(60, 64, 67, 0.15);\n",
              "      fill: #174EA6;\n",
              "    }\n",
              "\n",
              "    [theme=dark] .colab-df-convert {\n",
              "      background-color: #3B4455;\n",
              "      fill: #D2E3FC;\n",
              "    }\n",
              "\n",
              "    [theme=dark] .colab-df-convert:hover {\n",
              "      background-color: #434B5C;\n",
              "      box-shadow: 0px 1px 3px 1px rgba(0, 0, 0, 0.15);\n",
              "      filter: drop-shadow(0px 1px 2px rgba(0, 0, 0, 0.3));\n",
              "      fill: #FFFFFF;\n",
              "    }\n",
              "  </style>\n",
              "\n",
              "      <script>\n",
              "        const buttonEl =\n",
              "          document.querySelector('#df-9340c0e4-521f-4d96-89e2-ed50dd6484be button.colab-df-convert');\n",
              "        buttonEl.style.display =\n",
              "          google.colab.kernel.accessAllowed ? 'block' : 'none';\n",
              "\n",
              "        async function convertToInteractive(key) {\n",
              "          const element = document.querySelector('#df-9340c0e4-521f-4d96-89e2-ed50dd6484be');\n",
              "          const dataTable =\n",
              "            await google.colab.kernel.invokeFunction('convertToInteractive',\n",
              "                                                     [key], {});\n",
              "          if (!dataTable) return;\n",
              "\n",
              "          const docLinkHtml = 'Like what you see? Visit the ' +\n",
              "            '<a target=\"_blank\" href=https://colab.research.google.com/notebooks/data_table.ipynb>data table notebook</a>'\n",
              "            + ' to learn more about interactive tables.';\n",
              "          element.innerHTML = '';\n",
              "          dataTable['output_type'] = 'display_data';\n",
              "          await google.colab.output.renderOutput(dataTable, element);\n",
              "          const docLink = document.createElement('div');\n",
              "          docLink.innerHTML = docLinkHtml;\n",
              "          element.appendChild(docLink);\n",
              "        }\n",
              "      </script>\n",
              "    </div>\n",
              "  </div>\n",
              "  "
            ]
          },
          "metadata": {},
          "execution_count": 4
        }
      ]
    },
    {
      "cell_type": "code",
      "source": [
        "houses['sqft_living']"
      ],
      "metadata": {
        "colab": {
          "base_uri": "https://localhost:8080/"
        },
        "id": "HrQwNOCxs-U9",
        "outputId": "91f79cbc-a32a-46ca-ba26-b0da4a221266"
      },
      "execution_count": 5,
      "outputs": [
        {
          "output_type": "execute_result",
          "data": {
            "text/plain": [
              "0        1180\n",
              "1        2570\n",
              "2         770\n",
              "3        1960\n",
              "4        1680\n",
              "         ... \n",
              "21608    1530\n",
              "21609    2310\n",
              "21610    1020\n",
              "21611    1600\n",
              "21612    1020\n",
              "Name: sqft_living, Length: 21613, dtype: int64"
            ]
          },
          "metadata": {},
          "execution_count": 5
        }
      ]
    },
    {
      "cell_type": "code",
      "source": [
        "print(type(houses['sqft_living']))\n",
        "\n",
        "print(houses['sqft_living'][1])"
      ],
      "metadata": {
        "colab": {
          "base_uri": "https://localhost:8080/"
        },
        "id": "p9i2Cfljvayn",
        "outputId": "b9f6f62a-6505-4a9d-c7a6-70a8bdc3f1d9"
      },
      "execution_count": 12,
      "outputs": [
        {
          "output_type": "stream",
          "name": "stdout",
          "text": [
            "<class 'pandas.core.series.Series'>\n",
            "2570\n"
          ]
        }
      ]
    },
    {
      "cell_type": "code",
      "source": [
        "def find_mean(list):\n",
        "    length = len(list)\n",
        "    total = 0\n",
        "    for item in list:\n",
        "        total = total + item\n",
        "    mean = total / length\n",
        "    return mean\n",
        "\n",
        "def find_std(list, mean):\n",
        "    N=len(list)\n",
        "    sum = 0\n",
        "    for i in range(1,N):\n",
        "        sum = sum + (list[i]-mean)**2\n",
        "        std = math.sqrt((1/N)*sum)\n",
        "    return std\n",
        "\n",
        "mean = find_mean(houses['sqft_living'])\n",
        "std = find_std(houses['sqft_living'], mean)\n",
        "\n",
        "print(f'The MEAN of square feet of living space is: {mean}')\n",
        "print(f'The STANDARD DEVIATION of square feet of living space is: {std}')\n",
        "\n",
        "ypoints = np.array(houses['sqft_living'])\n",
        "\n",
        "plt.plot(ypoints)\n",
        "plt.show()\n",
        "\n"
      ],
      "metadata": {
        "colab": {
          "base_uri": "https://localhost:8080/",
          "height": 301
        },
        "id": "zTQmrbkpw32-",
        "outputId": "43a2a3ee-9288-443a-f62f-0e5fb8d4f8aa"
      },
      "execution_count": null,
      "outputs": [
        {
          "output_type": "stream",
          "name": "stdout",
          "text": [
            "The MEAN of square feet of living space is: 2079.8997362698374\n",
            "The STANDARD DEVIATION of square feet of living space is: 918.3992504778441\n"
          ]
        },
        {
          "output_type": "display_data",
          "data": {
            "text/plain": [
              "<Figure size 432x288 with 1 Axes>"
            ],
            "image/png": "[encoded data removed]"
          },
          "metadata": {
            "needs_background": "light"
          }
        }
      ]
    },
    {
      "cell_type": "code",
      "source": [
        "houses['price']"
      ],
      "metadata": {
        "colab": {
          "base_uri": "https://localhost:8080/"
        },
        "id": "HXpaMbDFtzRg",
        "outputId": "541f0623-4b3b-4aed-c054-1c90fd73798b"
      },
      "execution_count": null,
      "outputs": [
        {
          "output_type": "execute_result",
          "data": {
            "text/plain": [
              "0        221900.0\n",
              "1        538000.0\n",
              "2        180000.0\n",
              "3        604000.0\n",
              "4        510000.0\n",
              "           ...   \n",
              "21608    360000.0\n",
              "21609    400000.0\n",
              "21610    402101.0\n",
              "21611    400000.0\n",
              "21612    325000.0\n",
              "Name: price, Length: 21613, dtype: float64"
            ]
          },
          "metadata": {},
          "execution_count": 5
        }
      ]
    },
    {
      "cell_type": "code",
      "source": [
        "mean = find_mean(houses['price'])\n",
        "std = find_std(houses['price'], mean)\n",
        "\n",
        "print(f'The MEAN of the price of homes is: {mean}')\n",
        "print(f'The STANDARD DEVIATION of the price of homes is: {std}')\n",
        "\n",
        "ypoints = np.array(houses['price'])\n",
        "\n",
        "plt.plot(ypoints)\n",
        "plt.show()\n"
      ],
      "metadata": {
        "colab": {
          "base_uri": "https://localhost:8080/",
          "height": 311
        },
        "id": "Zn-rzyhGzw8U",
        "outputId": "1dbbd8de-bd39-4f6c-e431-1e91b7bec890"
      },
      "execution_count": null,
      "outputs": [
        {
          "output_type": "stream",
          "name": "stdout",
          "text": [
            "The MEAN of the price of homes is: 540088.1417665294\n",
            "The STANDARD DEVIATION of the price of homes is: 367112.32318848313\n"
          ]
        },
        {
          "output_type": "display_data",
          "data": {
            "text/plain": [
              "<Figure size 432x288 with 1 Axes>"
            ],
            "image/png": "[encoded data removed]"
          },
          "metadata": {
            "needs_background": "light"
          }
        }
      ]
    },
    {
      "cell_type": "code",
      "source": [
        "sum = 0\n",
        "count = 0\n",
        "for sqft in houses['sqft_living']:\n",
        "  sum = sum + sqft\n",
        "  count = count + 1\n",
        "print (\"sum:\" + str(sum))\n",
        "print (\"count:\" + str(count))\n",
        "print (\"average square feet of living space:\" + str (sum/count))"
      ],
      "metadata": {
        "colab": {
          "base_uri": "https://localhost:8080/"
        },
        "id": "tfrNQeoGuoTB",
        "outputId": "5b7ad415-08b4-4c7e-994a-4b29e6b86eb1"
      },
      "execution_count": null,
      "outputs": [
        {
          "output_type": "stream",
          "name": "stdout",
          "text": [
            "sum:44952873\n",
            "count:21613\n",
            "average square feet of living space:2079.8997362698374\n"
          ]
        }
      ]
    },
    {
      "cell_type": "code",
      "source": [
        "sum = 0\n",
        "count = 0\n",
        "for cost in houses['price']:\n",
        "  sum = sum + cost\n",
        "  count = count + 1\n",
        "print (\"sum:\" + str(sum))\n",
        "print (\"count:\" + str(count))\n",
        "print (\"average price of homes:\" + str (sum/count))"
      ],
      "metadata": {
        "colab": {
          "base_uri": "https://localhost:8080/"
        },
        "id": "Sq9eo9M5u2s-",
        "outputId": "d0e0264b-177c-4eb7-b7c1-043135bcb01a"
      },
      "execution_count": null,
      "outputs": [
        {
          "output_type": "stream",
          "name": "stdout",
          "text": [
            "sum:11672925008.0\n",
            "count:21613\n",
            "average price of homes:540088.1417665294\n"
          ]
        }
      ]
    },
    {
      "cell_type": "code",
      "source": [
        "houses['sqft_living'].hist()"
      ],
      "metadata": {
        "colab": {
          "base_uri": "https://localhost:8080/",
          "height": 282
        },
        "id": "BrY5FMeqvxqs",
        "outputId": "f90bb167-eb8a-4ec4-d03a-db649bc84195"
      },
      "execution_count": null,
      "outputs": [
        {
          "output_type": "execute_result",
          "data": {
            "text/plain": [
              "<matplotlib.axes._subplots.AxesSubplot at 0x7f5b320d09d0>"
            ]
          },
          "metadata": {},
          "execution_count": 8
        },
        {
          "output_type": "display_data",
          "data": {
            "text/plain": [
              "<Figure size 432x288 with 1 Axes>"
            ],
            "image/png": "[encoded data removed]"
          },
          "metadata": {
            "needs_background": "light"
          }
        }
      ]
    },
    {
      "cell_type": "code",
      "source": [
        "houses['price'].hist()"
      ],
      "metadata": {
        "colab": {
          "base_uri": "https://localhost:8080/",
          "height": 295
        },
        "id": "RYR7Qe_LwBm_",
        "outputId": "73b7b0b5-3ebb-4448-d253-85e92eea38b5"
      },
      "execution_count": null,
      "outputs": [
        {
          "output_type": "execute_result",
          "data": {
            "text/plain": [
              "<matplotlib.axes._subplots.AxesSubplot at 0x7f5b2fab3d50>"
            ]
          },
          "metadata": {},
          "execution_count": 9
        },
        {
          "output_type": "display_data",
          "data": {
            "text/plain": [
              "<Figure size 432x288 with 1 Axes>"
            ],
            "image/png": "[encoded data removed]"
          },
          "metadata": {
            "needs_background": "light"
          }
        }
      ]
    },
    {
      "cell_type": "markdown",
      "source": [
        "Project 1 - Question #3: Use the two variables selected for Q2, write one linear search and a binary search functions with your own code. Run the code multiple times and see if you can show the performance difference.\n"
      ],
      "metadata": {
        "id": "fKtFVuPasPh7"
      }
    },
    {
      "cell_type": "code",
      "source": [
        "#Linear Search\n",
        "\n",
        "import time\n",
        "\n",
        "def find_linear(list, value, description):\n",
        "  \n",
        "  # ts stores the time in seconds\n",
        "  ts1 = time.time()\n",
        "  \n",
        "  i=-1\n",
        "\n",
        "  found_houses=[]\n",
        "\n",
        "  for item in list:\n",
        "    i = i + 1\n",
        "    if item == value:\n",
        "      #print(f\"The Value {value} was found at entry {i}\")\n",
        "      #print(f\"Entry {i} is {houses['sqft_living'][i]}\")\n",
        "      found_houses.append(i)\n",
        "      \n",
        "\n",
        "  ts2 = time.time()\n",
        "  print(f'The time taken to search the list was {ts2-ts1} seconds.')\n",
        "  print(f'Here are the listings identified: {found_houses}')\n",
        "  print(f'There were {len(found_houses)} houses found that matched {value} {description}.' )\n",
        "\n",
        "#shortened_houses=houses['sqft_living'][:11]\n",
        "\n",
        "find_linear(houses['sqft_living'],600, \"square feet of living space\")\n",
        "print(\"\") \n",
        "\n",
        "find_linear(houses['price'],500000, \"dollars in cost\") \n",
        "\n",
        "\n"
      ],
      "metadata": {
        "colab": {
          "base_uri": "https://localhost:8080/"
        },
        "id": "G-2J5zPVsaPC",
        "outputId": "88e38c56-9872-47da-d107-93e416355ab9"
      },
      "execution_count": 38,
      "outputs": [
        {
          "output_type": "stream",
          "name": "stdout",
          "text": [
            "The time taken to search the list was 0.010642290115356445 seconds.\n",
            "Here are the listings identified: [3062, 5832, 7760, 12135, 14001, 14770, 15540]\n",
            "There were 7 houses found that matched 600 square feet of living space.\n",
            "\n",
            "The time taken to search the list was 0.0034437179565429688 seconds.\n",
            "Here are the listings identified: [144, 231, 289, 786, 805, 1088, 1214, 1454, 1518, 1594, 1851, 1916, 1985, 2277, 2361, 2364, 2465, 2627, 2658, 2928, 3503, 3749, 4454, 4463, 4570, 5207, 5581, 5623, 5671, 6026, 6033, 6532, 6578, 7121, 7138, 7183, 7202, 7349, 7658, 7707, 7748, 7893, 7969, 8197, 8246, 8311, 8319, 8336, 8338, 8698, 8742, 8832, 9150, 9236, 9269, 9451, 9539, 9751, 10330, 10346, 10356, 10537, 10561, 10610, 10722, 10851, 10855, 10939, 11067, 11136, 11280, 11326, 11391, 11484, 11683, 11751, 11853, 12015, 12057, 12473, 12618, 12689, 12791, 12985, 13038, 13204, 13251, 13525, 13561, 13872, 14183, 14422, 14429, 14489, 14519, 14912, 15095, 15179, 15382, 15435, 15514, 15666, 15702, 15748, 15762, 15839, 15886, 15938, 15979, 16001, 16055, 16077, 16239, 16319, 16514, 16616, 16669, 16734, 17003, 17107, 17127, 17149, 17256, 17260, 17391, 17501, 17532, 17545, 17674, 17676, 17699, 17989, 18027, 18368, 19181, 19186, 19432, 19525, 19610, 19903, 19905, 19967, 20231, 20311, 20379, 20380, 20480, 20642, 20695, 20947, 21032, 21210]\n",
            "There were 152 houses found that matched 500000 dollars in cost.\n"
          ]
        }
      ]
    },
    {
      "cell_type": "code",
      "source": [
        "#Binary Search\n",
        "\n",
        "def find_binary(list, value, description):\n",
        "\n",
        "  # ts stores the time in seconds\n",
        "  ts1 = time.time()\n",
        "\n",
        "  sorted_list=list.sort_values()\n",
        "\n",
        "  start_i=0\n",
        "  end_i=len(list)\n",
        "\n",
        "  found_houses=[]\n",
        "\n",
        "  while start_i < end_i:\n",
        "    middle_i = (start_i + end_i)//2\n",
        "    if list[middle_i]==value:\n",
        "      found_houses.append(middle_i)\n",
        "      \n",
        "      #need to check numbers that are around the middle for repeated values\n",
        "      while True:\n",
        "        middle_i = middle_i+1\n",
        "        n = 0\n",
        "        if list[middle_i]==value:\n",
        "          found_houses.append(\"series index for {middle_i} value\")\n",
        "          n = n + 1\n",
        "        else:\n",
        "          break\n",
        "\n",
        "      while True:\n",
        "        middle_i = middle_i - n - 1\n",
        "        if list[middle_i]==value:\n",
        "          found_houses.append(\"series index for {middle_i} value\")\n",
        "          \n",
        "        else:\n",
        "          break\n",
        "    \n",
        "    else:\n",
        "      if list[middle_i] < value:\n",
        "        start_i = middle_i + 1\n",
        "\n",
        "      else:\n",
        "        end_i = middle_i - 1\n",
        "\n",
        "  \n",
        "  ts2 = time.time()\n",
        "\n",
        "  print(f'The time taken to search the list was {ts2-ts1} seconds.')\n",
        "  print(f'Here are the listings identified: {found_houses}')\n",
        "  print(f'There were {len(found_houses)} houses found that matched {value} {description}.' )\n",
        "\n",
        "\n",
        "\n",
        "\n"
      ],
      "metadata": {
        "colab": {
          "base_uri": "https://localhost:8080/"
        },
        "id": "UQ_Y0l8FNjKj",
        "outputId": "4d9bd88b-811a-420f-8c4c-90e21d37a382"
      },
      "execution_count": 41,
      "outputs": [
        {
          "output_type": "stream",
          "name": "stdout",
          "text": [
            "2      770\n",
            "7     1060\n",
            "0     1180\n",
            "4     1680\n",
            "6     1715\n",
            "8     1780\n",
            "9     1890\n",
            "3     1960\n",
            "1     2570\n",
            "10    3560\n",
            "5     5420\n",
            "Name: sqft_living, dtype: int64\n"
          ]
        }
      ]
    }
  ]
}